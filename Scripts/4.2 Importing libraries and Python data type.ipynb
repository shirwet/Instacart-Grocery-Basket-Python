{
 "cells": [
  {
   "cell_type": "code",
   "execution_count": 1,
   "id": "f8cb342e",
   "metadata": {},
   "outputs": [],
   "source": [
    "#import libraries\n",
    "import pandas as pd\n",
    "import numpy as np\n",
    "import os"
   ]
  },
  {
   "cell_type": "code",
   "execution_count": 2,
   "id": "385dd3e3",
   "metadata": {},
   "outputs": [],
   "source": [
    "import pandas as pd\n",
    "import numpy as np\n",
    "import os"
   ]
  },
  {
   "cell_type": "code",
   "execution_count": 3,
   "id": "1792ae76",
   "metadata": {},
   "outputs": [],
   "source": [
    "#Python data types"
   ]
  },
  {
   "cell_type": "code",
   "execution_count": 4,
   "id": "64495027",
   "metadata": {},
   "outputs": [],
   "source": [
    "x=60\n",
    "y=20"
   ]
  },
  {
   "cell_type": "code",
   "execution_count": 6,
   "id": "dd0004fe",
   "metadata": {},
   "outputs": [
    {
     "data": {
      "text/plain": [
       "60"
      ]
     },
     "execution_count": 6,
     "metadata": {},
     "output_type": "execute_result"
    }
   ],
   "source": [
    "x"
   ]
  },
  {
   "cell_type": "code",
   "execution_count": 7,
   "id": "0589f0c7",
   "metadata": {},
   "outputs": [
    {
     "data": {
      "text/plain": [
       "100"
      ]
     },
     "execution_count": 7,
     "metadata": {},
     "output_type": "execute_result"
    }
   ],
   "source": [
    "x+y+y"
   ]
  },
  {
   "cell_type": "code",
   "execution_count": 12,
   "id": "726e3411",
   "metadata": {},
   "outputs": [
    {
     "data": {
      "text/plain": [
       "100"
      ]
     },
     "execution_count": 12,
     "metadata": {},
     "output_type": "execute_result"
    }
   ],
   "source": [
    "y*5"
   ]
  },
  {
   "cell_type": "code",
   "execution_count": 13,
   "id": "776211e4",
   "metadata": {},
   "outputs": [],
   "source": [
    "n=2.75\n",
    "m=20.75"
   ]
  },
  {
   "cell_type": "code",
   "execution_count": 14,
   "id": "488942b3",
   "metadata": {},
   "outputs": [
    {
     "data": {
      "text/plain": [
       "7.545454545454546"
      ]
     },
     "execution_count": 14,
     "metadata": {},
     "output_type": "execute_result"
    }
   ],
   "source": [
    "m/n"
   ]
  },
  {
   "cell_type": "code",
   "execution_count": 15,
   "id": "3790cbb6",
   "metadata": {},
   "outputs": [],
   "source": [
    "a='cu'\n",
    "b='mber'"
   ]
  },
  {
   "cell_type": "code",
   "execution_count": 16,
   "id": "910fb5b3",
   "metadata": {},
   "outputs": [
    {
     "data": {
      "text/plain": [
       "'cucumber'"
      ]
     },
     "execution_count": 16,
     "metadata": {},
     "output_type": "execute_result"
    }
   ],
   "source": [
    "(a*2)+b"
   ]
  },
  {
   "cell_type": "code",
   "execution_count": 19,
   "id": "c5ae9f19",
   "metadata": {},
   "outputs": [],
   "source": [
    "c='Good '\n",
    "d='morning '\n",
    "e='night '\n",
    "f='world '"
   ]
  },
  {
   "cell_type": "code",
   "execution_count": 20,
   "id": "e2434bec",
   "metadata": {},
   "outputs": [
    {
     "data": {
      "text/plain": [
       "'Good morning world '"
      ]
     },
     "execution_count": 20,
     "metadata": {},
     "output_type": "execute_result"
    }
   ],
   "source": [
    "c+d+f"
   ]
  },
  {
   "cell_type": "code",
   "execution_count": 21,
   "id": "d741987b",
   "metadata": {},
   "outputs": [
    {
     "data": {
      "text/plain": [
       "'Good night world '"
      ]
     },
     "execution_count": 21,
     "metadata": {},
     "output_type": "execute_result"
    }
   ],
   "source": [
    "c+e+f"
   ]
  },
  {
   "cell_type": "code",
   "execution_count": 23,
   "id": "1d7d8449",
   "metadata": {},
   "outputs": [
    {
     "data": {
      "text/plain": [
       "'cucumbercucumbercucumbercucumbercucumbercucumbercucumbercucumbercucumbercucumbercucumbercucumbercucumbercucumbercucumbercucumbercucumbercucumbercucumbercucumbercucumbercucumbercucumbercucumbercucumbercucumbercucumbercucumbercucumbercucumbercucumbercucumbercucumbercucumbercucumbercucumbercucumbercucumbercucumbercucumbercucumbercucumbercucumbercucumbercucumbercucumbercucumbercucumbercucumbercucumbercucumbercucumbercucumbercucumbercucumbercucumbercucumbercucumbercucumbercucumbercucumbercucumbercucumbercucumbercucumbercucumbercucumbercucumbercucumbercucumbercucumbercucumbercucumbercucumbercucumbercucumbercucumbercucumbercucumbercucumbercucumbercucumbercucumbercucumbercucumbercucumbercucumbercucumbercucumbercucumbercucumbercucumbercucumbercucumbercucumbercucumbercucumbercucumbercucumbercucumber'"
      ]
     },
     "execution_count": 23,
     "metadata": {},
     "output_type": "execute_result"
    }
   ],
   "source": [
    "((a*2)+b)*100"
   ]
  },
  {
   "cell_type": "code",
   "execution_count": null,
   "id": "605e8dfa",
   "metadata": {},
   "outputs": [],
   "source": []
  }
 ],
 "metadata": {
  "kernelspec": {
   "display_name": "Python 3 (ipykernel)",
   "language": "python",
   "name": "python3"
  },
  "language_info": {
   "codemirror_mode": {
    "name": "ipython",
    "version": 3
   },
   "file_extension": ".py",
   "mimetype": "text/x-python",
   "name": "python",
   "nbconvert_exporter": "python",
   "pygments_lexer": "ipython3",
   "version": "3.9.13"
  }
 },
 "nbformat": 4,
 "nbformat_minor": 5
}
